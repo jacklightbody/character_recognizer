{
 "cells": [
  {
   "cell_type": "markdown",
   "metadata": {},
   "source": [
    "**Entry: 05/12/2016**\n",
    "\n",
    "Began exploring methods for implementing neural network.\n",
    "Created:\n",
    "* character_recognizer.py\n",
    "* Character and Node classes\n",
    "* logistic()\n",
    "* load_chars(filename)\n",
    "* multinomial_output(list)\n",
    "* create_training_data(chars)\n",
    "* create_output_matrix(outputs)\n",
    "* learn(inputs, outputs, iterations, hidden, eta) <- still working on this!\n",
    "\n",
    "For next time, test current functions, continue working on learn and figure out how to update weights."
   ]
  },
  {
   "cell_type": "markdown",
   "metadata": {
    "collapsed": true
   },
   "source": [
    "**Entry: 15/19/2016**\n",
    "\n"
   ]
  },
  {
   "cell_type": "code",
   "execution_count": null,
   "metadata": {
    "collapsed": false
   },
   "outputs": [],
   "source": [
    "import character_recognizer as cr\n",
    "char_array = cr.load_chars(\"letter.data\")\n",
    "inputs, outputs = cr.create_training_data(char_array)\n",
    "train_inputs = inputs[:int(len(inputs)/2)]\n",
    "train_outputs = outputs[:int(len(outputs)/2)]\n",
    "test_inputs = inputs[int(len(inputs)/2):]\n",
    "test_outputs = outputs[int(len(outputs)/2):]\n",
    "\n",
    "input_layer, hidden_layer, output_layer = cr.learn(train_inputs, train_outputs, 50, 10, .05)\n",
    "predict_outputs = cr.predictOutputs(test_inputs, input_layer, hidden_layer, output_layer, cr.multinomial_output)\n",
    "confusion_matrix = cr.get_confusion_matrix(predict_outputs, test_outputs)\n",
    "print(confusion_matrix)"
   ]
  },
  {
   "cell_type": "code",
   "execution_count": null,
   "metadata": {
    "collapsed": true
   },
   "outputs": [],
   "source": []
  },
  {
   "cell_type": "code",
   "execution_count": null,
   "metadata": {
    "collapsed": true
   },
   "outputs": [],
   "source": []
  }
 ],
 "metadata": {
  "kernelspec": {
   "display_name": "Python 3",
   "language": "python",
   "name": "python3"
  },
  "language_info": {
   "codemirror_mode": {
    "name": "ipython",
    "version": 3
   },
   "file_extension": ".py",
   "mimetype": "text/x-python",
   "name": "python",
   "nbconvert_exporter": "python",
   "pygments_lexer": "ipython3",
   "version": "3.4.1"
  }
 },
 "nbformat": 4,
 "nbformat_minor": 0
}
