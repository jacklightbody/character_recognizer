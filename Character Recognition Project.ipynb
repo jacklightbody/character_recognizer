{
 "cells": [
  {
   "cell_type": "markdown",
   "metadata": {},
   "source": [
    "# Context Character Recognizer\n",
    "Aidan Holloway-Bidwell\n",
    "\n",
    "Computational Models of Cognition, Spring '16"
   ]
  },
  {
   "cell_type": "markdown",
   "metadata": {},
   "source": [
    "**Entry: 05/12/2016**\n",
    "\n",
    "Began exploring methods for implementing neural network.\n",
    "Created:\n",
    "* character_recognizer.py\n",
    "* Character and Node classes\n",
    "* logistic()\n",
    "* load_chars(filename)\n",
    "* multinomial_output(list)\n",
    "* create_training_data(chars)\n",
    "* create_output_matrix(outputs)\n",
    "* learn(inputs, outputs, iterations, hidden, eta) <- still working on this!\n",
    "\n",
    "For next time, test current functions, continue working on learn and figure out how to update weights."
   ]
  },
  {
   "cell_type": "markdown",
   "metadata": {
    "collapsed": true
   },
   "source": [
    "**Entry: 05/19/2016**\n",
    "\n"
   ]
  },
  {
   "cell_type": "markdown",
   "metadata": {},
   "source": [
    "Tested methods for the first time. Something is buggy in the code, consfusion matrices are incorrect and training takes a long time."
   ]
  },
  {
   "cell_type": "code",
   "execution_count": 2,
   "metadata": {
    "collapsed": false
   },
   "outputs": [
    {
     "ename": "SyntaxError",
     "evalue": "invalid syntax (character_recognizer.py, line 59)",
     "output_type": "error",
     "traceback": [
      "\u001b[0;36m  File \u001b[0;32m\"/Accounts/hollowaya/Desktop/CompModelsCog/FinalProject/character_recognizer/character_recognizer.py\"\u001b[0;36m, line \u001b[0;32m59\u001b[0m\n\u001b[0;31m    print right\u001b[0m\n\u001b[0m              ^\u001b[0m\n\u001b[0;31mSyntaxError\u001b[0m\u001b[0;31m:\u001b[0m invalid syntax\n"
     ]
    }
   ],
   "source": [
    "import character_recognizer as cr\n",
    "char_array = cr.load_chars(\"letter.data\")\n",
    "inputs, outputs = cr.create_training_data(char_array)\n",
    "train_inputs = inputs[:int(len(inputs)/2)]\n",
    "train_outputs = outputs[:int(len(outputs)/2)]\n",
    "test_inputs = inputs[int(len(inputs)/2):]\n",
    "test_outputs = outputs[int(len(outputs)/2):]\n",
    "\n",
    "input_layer, hidden_layer, output_layer = cr.learn(train_inputs, train_outputs, 50, 10, .05)\n",
    "predict_outputs = cr.predictOutputs(test_inputs, input_layer, hidden_layer, output_layer, cr.multinomial_output)\n",
    "confusion_matrix = cr.get_confusion_matrix(predict_outputs, test_outputs)\n",
    "print(confusion_matrix)"
   ]
  },
  {
   "cell_type": "markdown",
   "metadata": {
    "collapsed": true
   },
   "source": [
    "**Entry: 05/24/2016**\n",
    "\n",
    "Met to focus project and navigate issues with slowness of program. Re-read Pittman's paper and analyzed his methodology. After weighing different approaches we decided we wanted to try and implement something similar to his third character identification network, using context within a word to help determine the identity of a character. This could be tricky, as in some cases we want the pixel imputs to have most sway and in other cases we want the surrounding characters to be the determining factor. \n",
    "\n",
    "Network still doesn't work. Tried implementing a little bit of the network using code from HW 6 provided by Anna Rafferty. We will ask tomorrow if we are allowed to use some of her implementation in the hopes that things speed up."
   ]
  },
  {
   "cell_type": "markdown",
   "metadata": {
    "collapsed": true
   },
   "source": [
    "**Entry: 05/25/2016**\n",
    "\n",
    "Aidan: Talked to Anna about direction of project and whether we would be permitted to utilize numpy matrix implementation to speed up out network. Anna was reluctant to allow this and suggested we keep working with the clunkier network, but if we really get in a bind we could use it for part of the project. Relayed message to Jack.\n",
    "\n",
    "Jack: Worked on unit testing for character_recognizer.py until it (sort of) worked. After five iterations, network correctly classifies 7% of inputs (twice as accurate as random chance, so that's something.)\n",
    "\n",
    "We will proceed with more tests tomorrow."
   ]
  },
  {
   "cell_type": "code",
   "execution_count": null,
   "metadata": {
    "collapsed": true
   },
   "outputs": [],
   "source": []
  }
 ],
 "metadata": {
  "kernelspec": {
   "display_name": "Python 3",
   "language": "python",
   "name": "python3"
  },
  "language_info": {
   "codemirror_mode": {
    "name": "ipython",
    "version": 3
   },
   "file_extension": ".py",
   "mimetype": "text/x-python",
   "name": "python",
   "nbconvert_exporter": "python",
   "pygments_lexer": "ipython3",
   "version": "3.4.1"
  }
 },
 "nbformat": 4,
 "nbformat_minor": 0
}
